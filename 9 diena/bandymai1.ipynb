{
 "cells": [
  {
   "cell_type": "code",
   "execution_count": 1,
   "id": "f34f47ab-44af-43e9-954e-26003ed1e23a",
   "metadata": {},
   "outputs": [],
   "source": [
    "impo"
   ]
  },
  {
   "cell_type": "code",
   "execution_count": 22,
   "id": "f4310d58-4b03-4da9-800f-94c67b50a61d",
   "metadata": {},
   "outputs": [
    {
     "name": "stdout",
     "output_type": "stream",
     "text": [
      "labas rytas\n",
      "pasisveikinimas\n"
     ]
    }
   ],
   "source": [
    "# Pirmas Python kodas\n",
    "'''\n",
    "Labas\n",
    "Rytas programa\n",
    "'''\n",
    "\n",
    "valandos=11\n",
    "if valandos<12:\n",
    "    print(\"labas rytas\")\n",
    "else:\n",
    "    print(\"Labas vakaras\")\n",
    "    print(\"Labos nakties\")\n",
    "print(\"pasisveikinimas\")\n",
    "\n",
    "      "
   ]
  },
  {
   "cell_type": "code",
   "execution_count": 28,
   "id": "bb519b86-1942-4ea6-b793-a6f159c7d2ca",
   "metadata": {},
   "outputs": [
    {
     "name": "stdin",
     "output_type": "stream",
     "text": [
      "Iveskite varda Saulius\n",
      "Kiek Jums metu's:  52\n"
     ]
    },
    {
     "name": "stdout",
     "output_type": "stream",
     "text": [
      "Sveiki Saulius. Jums yra 52 m.\n"
     ]
    }
   ],
   "source": [
    "vardas=input('Iveskite varda')\n",
    "n=input(\"Kiek Jums metu's: \")\n",
    "rezultatas=\"Sveiki \" + vardas + \". Jums yra \" + n +\" m.\"\n",
    "print(rezultatas)"
   ]
  },
  {
   "cell_type": "code",
   "execution_count": 27,
   "id": "94a5f332-61d1-4e99-93b2-ae58976ba23a",
   "metadata": {},
   "outputs": [
    {
     "data": {
      "text/plain": [
       "'Sveiki Saulius. Jums yra 52 m.'"
      ]
     },
     "execution_count": 27,
     "metadata": {},
     "output_type": "execute_result"
    }
   ],
   "source": [
    "rezultatas"
   ]
  },
  {
   "cell_type": "code",
   "execution_count": 29,
   "id": "ea4c759d-7b50-4110-a900-da2f2bf2c41d",
   "metadata": {},
   "outputs": [
    {
     "ename": "TypeError",
     "evalue": "can only concatenate str (not \"int\") to str",
     "output_type": "error",
     "traceback": [
      "\u001b[1;31m---------------------------------------------------------------------------\u001b[0m",
      "\u001b[1;31mTypeError\u001b[0m                                 Traceback (most recent call last)",
      "Cell \u001b[1;32mIn[29], line 1\u001b[0m\n\u001b[1;32m----> 1\u001b[0m \u001b[43mn\u001b[49m\u001b[38;5;241;43m+\u001b[39;49m\u001b[38;5;241;43m15\u001b[39;49m\n",
      "\u001b[1;31mTypeError\u001b[0m: can only concatenate str (not \"int\") to str"
     ]
    }
   ],
   "source": [
    "n+15"
   ]
  },
  {
   "cell_type": "code",
   "execution_count": 30,
   "id": "991dc974-c4c3-4671-94e3-80b3c57efec8",
   "metadata": {},
   "outputs": [
    {
     "data": {
      "text/plain": [
       "str"
      ]
     },
     "execution_count": 30,
     "metadata": {},
     "output_type": "execute_result"
    }
   ],
   "source": [
    "type(n)"
   ]
  },
  {
   "cell_type": "code",
   "execution_count": 31,
   "id": "29cc5691-a4dd-496d-8de1-27bab2c52df5",
   "metadata": {},
   "outputs": [
    {
     "data": {
      "text/plain": [
       "67"
      ]
     },
     "execution_count": 31,
     "metadata": {},
     "output_type": "execute_result"
    }
   ],
   "source": [
    "int(n)+15"
   ]
  },
  {
   "cell_type": "code",
   "execution_count": 32,
   "id": "c5453cff-dbb1-441c-a426-de796f729f3c",
   "metadata": {},
   "outputs": [],
   "source": [
    "j=True"
   ]
  },
  {
   "cell_type": "code",
   "execution_count": 33,
   "id": "8060316e-f24b-4221-9273-a675ab665945",
   "metadata": {},
   "outputs": [
    {
     "data": {
      "text/plain": [
       "bool"
      ]
     },
     "execution_count": 33,
     "metadata": {},
     "output_type": "execute_result"
    }
   ],
   "source": [
    "type(j)"
   ]
  },
  {
   "cell_type": "code",
   "execution_count": 38,
   "id": "ed806215-323e-40fa-9c09-05b4ac058af6",
   "metadata": {},
   "outputs": [],
   "source": [
    "vidurkiai=[5,6,5,8,5,6]"
   ]
  },
  {
   "cell_type": "code",
   "execution_count": 39,
   "id": "307592f2-8d00-4418-a3f8-81fc83bfc47b",
   "metadata": {},
   "outputs": [
    {
     "data": {
      "text/plain": [
       "14"
      ]
     },
     "execution_count": 39,
     "metadata": {},
     "output_type": "execute_result"
    }
   ],
   "source": [
    "vidurkiai[3]+vidurkiai[1]"
   ]
  },
  {
   "cell_type": "code",
   "execution_count": 41,
   "id": "7eac6446-a3c0-4240-9c8c-d0da2c496a04",
   "metadata": {},
   "outputs": [],
   "source": [
    "asmuo={\"vardas\":\"Jonas\",\n",
    "       \"pavarde\":\"Antanaitis\",\n",
    "       \"amzius\":25,\n",
    "       \"vedes\":True\n",
    "       }"
   ]
  },
  {
   "cell_type": "code",
   "execution_count": 42,
   "id": "f9a99c9f-204e-4f4a-bd53-74952e2405cc",
   "metadata": {},
   "outputs": [
    {
     "data": {
      "text/plain": [
       "25"
      ]
     },
     "execution_count": 42,
     "metadata": {},
     "output_type": "execute_result"
    }
   ],
   "source": [
    "asmuo[\"amzius\"]"
   ]
  },
  {
   "cell_type": "code",
   "execution_count": 13,
   "id": "82ab3425-ddc5-4719-a39c-7818077c5685",
   "metadata": {},
   "outputs": [
    {
     "name": "stdin",
     "output_type": "stream",
     "text": [
      "Iveskite savo ugi metrais:  1.78\n",
      "Iveskite savo svori kilogramais:  40\n"
     ]
    },
    {
     "name": "stdout",
     "output_type": "stream",
     "text": [
      "Reikia labai susirpinti.\n"
     ]
    }
   ],
   "source": [
    "# KMI indekso skaiciavimas\n",
    "ugis=input(\"Iveskite savo ugi metrais: \")\n",
    "mase=input(\"Iveskite savo svori kilogramais: \")\n",
    "kmi=float(mase)/(float(ugis)**2)\n",
    "\n",
    "if kmi<16:\n",
    "    print(\"Reikia labai susirpinti.\")\n",
    "elif kmi<17:\n",
    "    print(\"Koreguokite mitybos iprocius.\")\n",
    "elif kmi<18.5:\n",
    "    print(\"Truputi koreguokite mitybos iprocius\")\n",
    "else:\n",
    "    print(\"negaliu psakyti\")\n",
    "\n"
   ]
  },
  {
   "cell_type": "code",
   "execution_count": 19,
   "id": "c76aab47-ef2a-4d23-b6e6-da0ae72167f8",
   "metadata": {},
   "outputs": [
    {
     "name": "stdout",
     "output_type": "stream",
     "text": [
      "7225\n"
     ]
    }
   ],
   "source": [
    "def sudeda_du_skaicius(a,b):\n",
    "    suma=(a+b)**2\n",
    "    return suma\n",
    "    \n",
    "rez=sudeda_du_skaicius(5,80)\n",
    "print(rez)\n"
   ]
  },
  {
   "cell_type": "code",
   "execution_count": 18,
   "id": "14bb0236-27e7-4764-89cd-c3d19bf0d9bb",
   "metadata": {},
   "outputs": [
    {
     "data": {
      "text/plain": [
       "7225"
      ]
     },
     "execution_count": 18,
     "metadata": {},
     "output_type": "execute_result"
    }
   ],
   "source": []
  },
  {
   "cell_type": "code",
   "execution_count": 20,
   "id": "aec6348f-9bc7-4391-a063-70a65a439037",
   "metadata": {},
   "outputs": [],
   "source": [
    "# KMI indekso skaiciavimas\n",
    "\n",
    "def kmi(mase, ugis):\n",
    "    kmi=float(mase)/(float(ugis)**2)\n",
    "    return kmi\n",
    "\n",
    "def atsakymai(kmi):\n",
    "    # isves rezultata\n",
    "    if kmi<16:\n",
    "        print(\"Reikia labai susirpinti.\")\n",
    "    elif kmi<17:\n",
    "        print(\"Koreguokite mitybos iprocius.\")\n",
    "    elif kmi<18.5:\n",
    "        print(\"Truputi koreguokite mitybos iprocius\")\n",
    "    else:\n",
    "        print(\"negaliu psakyti\")\n",
    "\n"
   ]
  },
  {
   "cell_type": "code",
   "execution_count": 22,
   "id": "665df609-0d33-4280-8ddf-f8f4969b881d",
   "metadata": {},
   "outputs": [
    {
     "name": "stdin",
     "output_type": "stream",
     "text": [
      "Iveskite savo ugi metrais:  1.78\n",
      "Iveskite savo svori kilogramais:  40\n"
     ]
    },
    {
     "name": "stdout",
     "output_type": "stream",
     "text": [
      "Reikia labai susirpinti.\n"
     ]
    }
   ],
   "source": [
    "ugis=input(\"Iveskite savo ugi metrais: \")\n",
    "mase=input(\"Iveskite savo svori kilogramais: \")\n",
    "kmi_rezultatas=kmi(ugis, mase)\n",
    "atsakymai(kmi_rezultatas)\n"
   ]
  },
  {
   "cell_type": "code",
   "execution_count": null,
   "id": "eda75b17-55fc-4ccd-a1c3-4a163773b8ab",
   "metadata": {},
   "outputs": [
    {
     "name": "stdout",
     "output_type": "stream",
     "text": [
      "\n",
      "Welcome to Python 3.11's help utility!\n",
      "\n",
      "If this is your first time using Python, you should definitely check out\n",
      "the tutorial on the internet at https://docs.python.org/3.11/tutorial/.\n",
      "\n",
      "Enter the name of any module, keyword, or topic to get help on writing\n",
      "Python programs and using Python modules.  To quit this help utility and\n",
      "return to the interpreter, just type \"quit\".\n",
      "\n",
      "To get a list of available modules, keywords, symbols, or topics, type\n",
      "\"modules\", \"keywords\", \"symbols\", or \"topics\".  Each module also comes\n",
      "with a one-line summary of what it does; to list the modules whose name\n",
      "or summary contain a given string such as \"spam\", type \"modules spam\".\n",
      "\n"
     ]
    },
    {
     "name": "stdin",
     "output_type": "stream",
     "text": [
      "help>  pow\n"
     ]
    },
    {
     "name": "stdout",
     "output_type": "stream",
     "text": [
      "Help on built-in function pow in module builtins:\n",
      "\n",
      "pow(base, exp, mod=None)\n",
      "    Equivalent to base**exp with 2 arguments or base**exp % mod with 3 arguments\n",
      "    \n",
      "    Some types, such as ints, are able to use a more efficient algorithm when\n",
      "    invoked using the three argument form.\n",
      "\n"
     ]
    }
   ],
   "source": [
    "help()"
   ]
  },
  {
   "cell_type": "code",
   "execution_count": 3,
   "id": "0c3afc68-4c5a-4407-bbe0-d974cce9acc6",
   "metadata": {},
   "outputs": [
    {
     "name": "stdout",
     "output_type": "stream",
     "text": [
      "225\n",
      "196\n",
      "169\n",
      "144\n",
      "121\n",
      "100\n",
      "81\n",
      "64\n",
      "49\n",
      "36\n",
      "25\n",
      "16\n",
      "9\n",
      "4\n",
      "1\n",
      "0\n"
     ]
    }
   ],
   "source": [
    "sk1=15\n",
    "while sk1>=0:\n",
    "    print(sk1*sk1)\n",
    "    sk1=sk1-1\n",
    "    \n"
   ]
  },
  {
   "cell_type": "code",
   "execution_count": 10,
   "id": "ab9c344c-6414-4d6e-bdc1-c173df508e59",
   "metadata": {},
   "outputs": [
    {
     "name": "stdout",
     "output_type": "stream",
     "text": [
      "413\n"
     ]
    }
   ],
   "source": [
    "amzius=[5,2,5,4,65,8,5,8,8,5,8,5,8,5,85,8,5,8,25,25,25,25,66]\n",
    "\n",
    "suma=0\n",
    "for x in amzius:\n",
    "    suma=suma+x\n",
    "\n",
    "print(suma)\n",
    "\n"
   ]
  },
  {
   "cell_type": "code",
   "execution_count": 12,
   "id": "68fe977c-be0a-47df-ae26-780ccc1d8379",
   "metadata": {},
   "outputs": [],
   "source": [
    "def ar_pirminis(sk):\n",
    "    if sk<=1:\n",
    "        return False\n",
    "    if sk%2==0:\n",
    "        return False\n",
    "    return True\n"
   ]
  },
  {
   "cell_type": "code",
   "execution_count": 22,
   "id": "aeca576c-7867-49a0-8b32-3d955a670168",
   "metadata": {},
   "outputs": [
    {
     "data": {
      "text/plain": [
       "True"
      ]
     },
     "execution_count": 22,
     "metadata": {},
     "output_type": "execute_result"
    }
   ],
   "source": [
    "ar_pirminis(9)"
   ]
  },
  {
   "cell_type": "code",
   "execution_count": 21,
   "id": "319c5c7c-02d0-4ebb-8afc-f5201b43e56d",
   "metadata": {},
   "outputs": [
    {
     "name": "stdin",
     "output_type": "stream",
     "text": [
      "Iki kokio skaiciaus norite matyti pirminius skaicius:  15\n"
     ]
    },
    {
     "name": "stdout",
     "output_type": "stream",
     "text": [
      "3, \n",
      "5, \n",
      "7, \n",
      "9, \n",
      "11, \n",
      "13, \n"
     ]
    }
   ],
   "source": [
    "n=int(input(\"Iki kokio skaiciaus norite matyti pirminius skaicius: \"))\n",
    "\n",
    "for x in range(2,n):\n",
    "      if ar_pirminis(x)==True:\n",
    "        print(f\"{x}, \") "
   ]
  },
  {
   "cell_type": "code",
   "execution_count": 26,
   "id": "a3d7d5cf-997a-4247-b4c1-a094fd02a801",
   "metadata": {},
   "outputs": [
    {
     "name": "stdout",
     "output_type": "stream",
     "text": [
      "1. Jonas\n",
      "2. Ieva\n",
      "3. Marius\n",
      "4. Simona\n",
      "5. Tomas\n",
      "6. Agnė\n",
      "7. Kęstutis\n",
      "8. Laura\n",
      "9. Darius\n",
      "10. Greta\n",
      "11. Paulius\n",
      "12. Justė\n",
      "13. Andrius\n",
      "14. Kotryna\n",
      "15. Gediminas\n",
      "16. Monika\n",
      "17. Vytautas\n",
      "18. Rūta\n",
      "19. Martynas\n",
      "20. Jurgita\n",
      "21. Antanas23. Saulius\n",
      "23. Saulius\n",
      "1. Jonas\n",
      "2. Ieva\n",
      "3. Marius\n",
      "4. Simona\n",
      "5. Tomas\n",
      "6. Agnė\n",
      "7. Kęstutis\n",
      "8. Laura\n",
      "9. Darius\n",
      "10. Greta\n",
      "11. Paulius\n",
      "12. Justė\n",
      "13. Andrius\n",
      "14. Kotryna\n",
      "15. Gediminas\n",
      "16. Monika\n",
      "17. Vytautas\n",
      "18. Rūta\n",
      "19. Martynas\n",
      "20. Jurgita\n",
      "21. Antanas23. Saulius\n",
      "23. Saulius\n",
      "23. Saulius\n"
     ]
    }
   ],
   "source": [
    "kelias=\"C:\\\\Users\\\\sprei\\\\OneDrive\\\\01-Dideli mokymai\\\\VMI mokymai\\\\Python kodai\\\\data\\\\vardai.txt\"\n",
    "with open(kelias, \"r\", encoding=\"utf-8\") as failas:\n",
    "    tekstas=failas.read()\n",
    "print(tekstas)\n",
    "\n",
    "with open(kelias, \"a\", encoding=\"utf-8\") as failas:\n",
    "    tekstas=failas.write(\"\\n23. Saulius\")\n",
    "\n",
    "with open(kelias, \"r\", encoding=\"utf-8\") as failas:\n",
    "    tekstas=failas.read()\n",
    "print(tekstas)"
   ]
  },
  {
   "cell_type": "code",
   "execution_count": 33,
   "id": "0fcbb965-4f7f-4309-ac24-8a85cb29abc5",
   "metadata": {},
   "outputs": [],
   "source": [
    "import pandas as pd"
   ]
  },
  {
   "cell_type": "code",
   "execution_count": 28,
   "id": "fd237a98-93a6-4a24-a65a-1bb91d062dc2",
   "metadata": {},
   "outputs": [],
   "source": [
    "import json"
   ]
  },
  {
   "cell_type": "code",
   "execution_count": 31,
   "id": "1642aa76-a241-4c79-a5b3-469d0937f916",
   "metadata": {},
   "outputs": [],
   "source": [
    "import seaborn"
   ]
  },
  {
   "cell_type": "code",
   "execution_count": 44,
   "id": "493b1914-f8f8-44f3-81dd-7577043dbd19",
   "metadata": {},
   "outputs": [
    {
     "ename": "AttributeError",
     "evalue": "module 'pandas' has no attribute 'rea2d_csv'",
     "output_type": "error",
     "traceback": [
      "\u001b[1;31m---------------------------------------------------------------------------\u001b[0m",
      "\u001b[1;31mAttributeError\u001b[0m                            Traceback (most recent call last)",
      "Cell \u001b[1;32mIn[44], line 1\u001b[0m\n\u001b[1;32m----> 1\u001b[0m df\u001b[38;5;241m=\u001b[39m\u001b[43mpd\u001b[49m\u001b[38;5;241;43m.\u001b[39;49m\u001b[43mrea2d_csv\u001b[49m(\u001b[38;5;124m\"\u001b[39m\u001b[38;5;124mhttps://raw.githubusercontent.com/vilnius/gyventojai/master/registered_people_n_streets.csv\u001b[39m\u001b[38;5;124m\"\u001b[39m, sep\u001b[38;5;241m=\u001b[39m\u001b[38;5;124m\"\u001b[39m\u001b[38;5;124m,\u001b[39m\u001b[38;5;124m\"\u001b[39m, encoding\u001b[38;5;241m=\u001b[39m\u001b[38;5;124m\"\u001b[39m\u001b[38;5;124mutf-8\u001b[39m\u001b[38;5;124m\"\u001b[39m)\n",
      "\u001b[1;31mAttributeError\u001b[0m: module 'pandas' has no attribute 'rea2d_csv'"
     ]
    }
   ],
   "source": [
    "df=pd.rea2d_csv(\"https://raw.githubusercontent.com/vilnius/gyventojai/master/registered_people_n_streets.csv\", sep=\",\", encoding=\"utf-8\")\n"
   ]
  },
  {
   "cell_type": "code",
   "execution_count": 43,
   "id": "abe2914c-c387-4f0e-a148-16d57513d865",
   "metadata": {},
   "outputs": [
    {
     "data": {
      "text/plain": [
       "0    V\n",
       "1    M\n",
       "2    V\n",
       "3    V\n",
       "4    V\n",
       "5    V\n",
       "6    V\n",
       "7    M\n",
       "8    M\n",
       "9    M\n",
       "Name: LYTIS, dtype: object"
      ]
     },
     "execution_count": 43,
     "metadata": {},
     "output_type": "execute_result"
    }
   ],
   "source": [
    "df['LYTIS'].head(10)"
   ]
  },
  {
   "cell_type": "code",
   "execution_count": null,
   "id": "af974c6a-be68-468d-9829-5c0624bcc0c4",
   "metadata": {},
   "outputs": [],
   "source": []
  }
 ],
 "metadata": {
  "kernelspec": {
   "display_name": "Python 3 (ipykernel)",
   "language": "python",
   "name": "python3"
  },
  "language_info": {
   "codemirror_mode": {
    "name": "ipython",
    "version": 3
   },
   "file_extension": ".py",
   "mimetype": "text/x-python",
   "name": "python",
   "nbconvert_exporter": "python",
   "pygments_lexer": "ipython3",
   "version": "3.11.5"
  }
 },
 "nbformat": 4,
 "nbformat_minor": 5
}
