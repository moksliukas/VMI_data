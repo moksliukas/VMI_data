{
 "cells": [
  {
   "cell_type": "code",
   "execution_count": 1,
   "id": "2b8fdd76-c37b-45c4-9746-f7e09dff5a94",
   "metadata": {},
   "outputs": [
    {
     "name": "stdout",
     "output_type": "stream",
     "text": [
      "netaip jau ir svarbu\n"
     ]
    }
   ],
   "source": [
    "from include import slaptazodis\n",
    "\n",
    "# Dabar galite naudoti kintamąjį `slaptazodis`\n",
    "print(slaptazodis)  # spausdins 'jusu_slaptazodis'"
   ]
  },
  {
   "cell_type": "code",
   "execution_count": null,
   "id": "32833a12-5c83-4c13-b353-78b5109eda97",
   "metadata": {},
   "outputs": [],
   "source": []
  },
  {
   "cell_type": "code",
   "execution_count": null,
   "id": "0c07538b-9b76-45bb-a003-89a49150f649",
   "metadata": {},
   "outputs": [],
   "source": []
  },
  {
   "cell_type": "code",
   "execution_count": null,
   "id": "fef1c5d0-3682-44f8-aa66-4b99008685c2",
   "metadata": {},
   "outputs": [],
   "source": []
  }
 ],
 "metadata": {
  "kernelspec": {
   "display_name": "Python 3 (ipykernel)",
   "language": "python",
   "name": "python3"
  },
  "language_info": {
   "codemirror_mode": {
    "name": "ipython",
    "version": 3
   },
   "file_extension": ".py",
   "mimetype": "text/x-python",
   "name": "python",
   "nbconvert_exporter": "python",
   "pygments_lexer": "ipython3",
   "version": "3.11.5"
  }
 },
 "nbformat": 4,
 "nbformat_minor": 5
}
